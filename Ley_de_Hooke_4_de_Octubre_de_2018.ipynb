{
  "nbformat": 4,
  "nbformat_minor": 0,
  "metadata": {
    "colab": {
      "name": "Ley de Hooke - 4 de Octubre de 2018",
      "version": "0.3.2",
      "provenance": [],
      "collapsed_sections": [],
      "include_colab_link": true
    },
    "kernelspec": {
      "name": "python2",
      "display_name": "Python 2"
    }
  },
  "cells": [
    {
      "cell_type": "markdown",
      "metadata": {
        "id": "view-in-github",
        "colab_type": "text"
      },
      "source": [
        "[View in Colaboratory](https://colab.research.google.com/github/ElectiveOrc9/Enrique-Valera/blob/master/Ley_de_Hooke_4_de_Octubre_de_2018.ipynb)"
      ]
    },
    {
      "metadata": {
        "id": "b7uX69xvUsLT",
        "colab_type": "code",
        "colab": {
          "base_uri": "https://localhost:8080/",
          "height": 34
        },
        "outputId": "35075472-9dbb-40e9-90a9-417ff118cfad"
      },
      "cell_type": "code",
      "source": [
        "import sympy \n",
        "import numpy as np\n",
        "sympy.init_printing(use_latex='mathjax')\n",
        "A=sympy.Symbol('A ')\n",
        "m=sympy.Symbol('m')\n",
        "k=sympy.Symbol('k')\n",
        "t=sympy.Symbol('t')\n",
        "x=sympy.Function('x')\n",
        "\n",
        "f=(-k*x(t))/m\n",
        "\n",
        "ics = {x(0): A}\n",
        "\n",
        "Re=sympy.Eq(x(t).diff(t, 2), f)\n",
        "Re\n",
        "#print(\"\\nResolver la EDO\", sympt.Eq(x(t).diff(t),f))\n",
        "Sol=sympy.dsolve(x(t).diff(t, 2)-f)\n",
        "Sol"
      ],
      "execution_count": 7,
      "outputs": [
        {
          "output_type": "execute_result",
          "data": {
            "text/latex": "$$x{\\left (t \\right )} = C_{1} e^{- t \\sqrt{- \\frac{k}{m}}} + C_{2} e^{t \\sqrt{- \\frac{k}{m}}}$$",
            "text/plain": [
              "                  _____             _____\n",
              "                 ╱ -k              ╱ -k  \n",
              "           -t⋅  ╱  ───        t⋅  ╱  ─── \n",
              "              ╲╱    m           ╲╱    m  \n",
              "x(t) = C₁⋅ℯ             + C₂⋅ℯ           "
            ]
          },
          "metadata": {
            "tags": []
          },
          "execution_count": 7
        }
      ]
    },
    {
      "metadata": {
        "id": "vJZkWSFH--bX",
        "colab_type": "text"
      },
      "cell_type": "markdown",
      "source": [
        "\n",
        "\n",
        "$$x{\\left (t \\right )} = C_{1} e^{- t \\sqrt{- \\frac{k}{m}}} + C_{2} e^{t \\sqrt{- \\frac{k}{m}}}$$\n",
        "\n",
        "\n",
        "$$x{\\left (t \\right )} = C_{1} e^{- t \\sqrt{\\frac{k}{m}}} + C_{2} e^{t \\sqrt{\\frac{k}{m}}}$$\n",
        "\n",
        "$e^{i \\phi} = cos(\\phi) + isin(\\phi)$"
      ]
    },
    {
      "metadata": {
        "id": "Fg5PCzDMEKt1",
        "colab_type": "code",
        "colab": {
          "base_uri": "https://localhost:8080/",
          "height": 34
        },
        "outputId": "94df2d2a-a17c-40b1-a1f8-b83f8a5922f2"
      },
      "cell_type": "code",
      "source": [
        "C_f = sympy.Eq(Sol.lhs.subs(t, 0).subs(ics), Sol.rhs.subs(t, 0))\n",
        "C_f"
      ],
      "execution_count": 31,
      "outputs": [
        {
          "output_type": "execute_result",
          "data": {
            "text/latex": "$$A = C_{1} + C_{2}$$",
            "text/plain": [
              "A = C₁ + C₂"
            ]
          },
          "metadata": {
            "tags": []
          },
          "execution_count": 31
        }
      ]
    },
    {
      "metadata": {
        "id": "KCtGKGNGEpuL",
        "colab_type": "text"
      },
      "cell_type": "markdown",
      "source": [
        "$$A = C_{1} + C_{2}$$"
      ]
    },
    {
      "metadata": {
        "id": "wOkAofeuE0mi",
        "colab_type": "code",
        "colab": {
          "base_uri": "https://localhost:8080/",
          "height": 34
        },
        "outputId": "1dacfaba-01e4-45c9-e652-da788ccdccf1"
      },
      "cell_type": "code",
      "source": [
        "sympy.solve(C_f)"
      ],
      "execution_count": 32,
      "outputs": [
        {
          "output_type": "execute_result",
          "data": {
            "text/latex": "$$\\left [ \\left \\{ A : C_{1} + C_{2}\\right \\}\\right ]$$",
            "text/plain": [
              "[{A: C₁ + C₂}]"
            ]
          },
          "metadata": {
            "tags": []
          },
          "execution_count": 32
        }
      ]
    },
    {
      "metadata": {
        "id": "9NgP3W7fE33_",
        "colab_type": "text"
      },
      "cell_type": "markdown",
      "source": [
        "$$\\left [ \\left \\{ A : C_{1} + C_{2}\\right \\}\\right ]$$"
      ]
    },
    {
      "metadata": {
        "id": "WJAS0B9sQfYJ",
        "colab_type": "code",
        "colab": {
          "base_uri": "https://localhost:8080/",
          "height": 358
        },
        "outputId": "cb2c61be-12ac-4076-c704-01af00f9162f"
      },
      "cell_type": "code",
      "source": [
        "import numpy as np\n",
        "import sympy\n",
        "import pylab as pl\n",
        "m=sympy.Symbol('m')\n",
        "k=sympy.Symbol('k')\n",
        "t=sympy.Symbol('t')\n",
        "x=sympy.Function('x')\n",
        "\n",
        "def rk2(f,x,y,h,m):\n",
        "#m filas, 2 columnas\n",
        " u=np.zeros([m,2],float)\n",
        " for i in range(m):\n",
        "  k1=h*f(x,y)\n",
        "  k2=h*f(x+h, y+k1)\n",
        "  y=y+0.5*(k1+k2)\n",
        "  x=x+h\n",
        "  u[i,0]=x\n",
        "  u[i,1]=y\n",
        " return u\n",
        "\n",
        "def f(x,y): \n",
        " return (-196*y)\n",
        "\n",
        "u=rk2(f,0,1000,0.1,2)\n",
        "pl.plot(u[:,0],u[:,1],'or', label='Aproximaciones Rungle-Kutta2')\n",
        "\n",
        "def h(i):\n",
        " return 0.05*(np.cos(i*np.sqrt(1000*(250/49))))\n",
        "  \n",
        "v = np.arange(-1, 1, 0.01)\n",
        "\n",
        "pl.plot(v, h(v))\n",
        "pl.show()\n"
      ],
      "execution_count": 5,
      "outputs": [
        {
          "output_type": "display_data",
          "data": {
            "image/png": "[encoded data removed]",
            "text/plain": [
              "<matplotlib.figure.Figure at 0x7f03d485e950>"
            ]
          },
          "metadata": {
            "tags": []
          }
        }
      ]
    },
    {
      "metadata": {
        "id": "5nimVWDRLg8a",
        "colab_type": "code",
        "colab": {
          "base_uri": "https://localhost:8080/",
          "height": 347
        },
        "outputId": "5f6770e1-447d-464a-c292-66f615638bf6"
      },
      "cell_type": "code",
      "source": [
        "import numpy as np\n",
        "import matplotlib.pyplot as plt\n",
        "import math\n",
        "\n",
        "def h(i):\n",
        " return 0.05*(np.cos(i*np.sqrt(1000*(250/49))))\n",
        "\n",
        "#k=1000\n",
        "#m=(250/49)\n",
        "#A=0.05\n",
        "  \n",
        "v = np.arange(-1, 1, 0.1)\n",
        "\n",
        "plt.plot(v, h(v))\n",
        "plt.show()"
      ],
      "execution_count": 62,
      "outputs": [
        {
          "output_type": "display_data",
          "data": {
            "image/png": "[encoded data removed]",
            "text/plain": [
              "<matplotlib.figure.Figure at 0x7f7054c49710>"
            ]
          },
          "metadata": {
            "tags": []
          }
        }
      ]
    }
  ]
}